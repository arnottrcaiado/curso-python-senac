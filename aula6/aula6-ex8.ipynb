{
 "cells": [
  {
   "cell_type": "code",
   "execution_count": 19,
   "metadata": {},
   "outputs": [],
   "source": [
    "# aula6 - ex8 - Arnott Ramos Caiado\n",
    "# Palíndromo. Um palíndromo é uma seqüência de caracteres cuja leitura é idêntica \n",
    "# se feita da direita para esquerda ou vice−versa. \n",
    "# Por exemplo: OSSO e OVO são palíndromos. \n",
    "# Em textos mais complexos os espaços e pontuação são ignorados. \n",
    "# A frase SUBI NO ONIBUS é o exemplo de uma frase palíndroma onde os espaços foram ignorados. \n",
    "# Faça um programa que leia uma seqüência de caracteres, \n",
    "# mostre−a e diga se é um palíndromo ou não."
   ]
  },
  {
   "cell_type": "code",
   "execution_count": 20,
   "metadata": {},
   "outputs": [],
   "source": [
    "def inverte_texto ( texto ): \n",
    "    invert = \"\"\n",
    "    for i in range(len(texto)-1, -1 , -1) :\n",
    "        invert += texto[i]\n",
    "    return(invert)"
   ]
  },
  {
   "cell_type": "code",
   "execution_count": 21,
   "metadata": {},
   "outputs": [
    {
     "name": "stdout",
     "output_type": "stream",
     "text": [
      "Entre com um texto para eu ver se eh palindromo:ovo\n"
     ]
    }
   ],
   "source": [
    "text = input(\"Entre com um texto para eu ver se eh palindromo:\")\n",
    "text = text.upper()"
   ]
  },
  {
   "cell_type": "code",
   "execution_count": 22,
   "metadata": {},
   "outputs": [],
   "source": [
    "invert = inverte_texto ( text )"
   ]
  },
  {
   "cell_type": "code",
   "execution_count": 23,
   "metadata": {},
   "outputs": [
    {
     "name": "stdout",
     "output_type": "stream",
     "text": [
      "Palindromo: OVO == OVO\n"
     ]
    }
   ],
   "source": [
    "if text == invert :\n",
    "    print(\"Palindromo: {0} == {1}\".format( text, invert))"
   ]
  }
 ],
 "metadata": {
  "kernelspec": {
   "display_name": "Python 3",
   "language": "python",
   "name": "python3"
  },
  "language_info": {
   "codemirror_mode": {
    "name": "ipython",
    "version": 3
   },
   "file_extension": ".py",
   "mimetype": "text/x-python",
   "name": "python",
   "nbconvert_exporter": "python",
   "pygments_lexer": "ipython3",
   "version": "3.7.3"
  }
 },
 "nbformat": 4,
 "nbformat_minor": 2
}
