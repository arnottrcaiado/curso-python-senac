{
 "cells": [
  {
   "cell_type": "code",
   "execution_count": null,
   "metadata": {},
   "outputs": [],
   "source": [
    "# aula6 - ex10 - Arnott Ramos Caiado\n",
    "# Número por extenso. Escreva um programa que solicite ao usuário \n",
    "# a digitação de um número até 99 e imprima-o na tela por extenso."
   ]
  },
  {
   "cell_type": "code",
   "execution_count": 4,
   "metadata": {},
   "outputs": [],
   "source": [
    "from num2words import num2words"
   ]
  },
  {
   "cell_type": "code",
   "execution_count": 5,
   "metadata": {},
   "outputs": [],
   "source": [
    "unidades = [\"zero\",\"um\",\"dois\",\"três\",\"quatro\",\"cinco\",\"seis\",\"sete\",\"oito\",\"nove\",\"dez\",\n",
    "            \"onze\",\"doze\",\"treze\",\"quatorze\",\"quinze\",\"dezesseis\",\"dezessete\",\"dezoito\",\"dezenove\"]"
   ]
  },
  {
   "cell_type": "code",
   "execution_count": 6,
   "metadata": {},
   "outputs": [],
   "source": [
    "dezenas =[\"vinte\",\"trinta\",\"quarenta\",\"cinquenta\",\"sessenta\",\"setenta\",\"oitenta\",\"noventa\"]"
   ]
  },
  {
   "cell_type": "code",
   "execution_count": 7,
   "metadata": {},
   "outputs": [],
   "source": [
    "centenas =[\"cem\",\"duzentos\",\"trezentos\",\"quatrocentos\",\"quinhentos\",\"seiscentos\",\"setecentos\",\"oitocentos\",\"novescentos\"]"
   ]
  },
  {
   "cell_type": "code",
   "execution_count": 8,
   "metadata": {},
   "outputs": [
    {
     "name": "stdout",
     "output_type": "stream",
     "text": [
      "Entre numero1234\n"
     ]
    }
   ],
   "source": [
    "numero = int(input(\"Entre numero\"))"
   ]
  },
  {
   "cell_type": "code",
   "execution_count": 9,
   "metadata": {},
   "outputs": [],
   "source": [
    "text1 = num2words(numero,lang='pt_BR')"
   ]
  },
  {
   "cell_type": "code",
   "execution_count": 10,
   "metadata": {},
   "outputs": [
    {
     "data": {
      "text/plain": [
       "'mil, duzentos e trinta e quatro'"
      ]
     },
     "execution_count": 10,
     "metadata": {},
     "output_type": "execute_result"
    }
   ],
   "source": [
    "text1"
   ]
  },
  {
   "cell_type": "code",
   "execution_count": 47,
   "metadata": {},
   "outputs": [],
   "source": [
    "def unidade( num ): # retorna por extenso as unidades de um numero\n",
    "    num_str = str(num)\n",
    "    tam = len(num_str)\n",
    "    if tam >=2 :\n",
    "        unid = int(num_str[tam-2:2])\n",
    "        if unid < 20 :\n",
    "            return unidades[unid]\n",
    "        else :\n",
    "            dezena = int(num_str[tam-2:1])-2\n",
    "            print(dezena)\n",
    "            unid = int( num_str[tam-1])\n",
    "            dez_str = dezenas[dezena]\n",
    "            if unid >0 :\n",
    "                dez_str += \" e \"+unidades[unid]\n",
    "            return( dez_str )"
   ]
  },
  {
   "cell_type": "code",
   "execution_count": 48,
   "metadata": {},
   "outputs": [
    {
     "name": "stdout",
     "output_type": "stream",
     "text": [
      "0\n"
     ]
    }
   ],
   "source": [
    "extenso = unidade( 24 )"
   ]
  },
  {
   "cell_type": "code",
   "execution_count": 49,
   "metadata": {},
   "outputs": [
    {
     "data": {
      "text/plain": [
       "'vinte e quatro'"
      ]
     },
     "execution_count": 49,
     "metadata": {},
     "output_type": "execute_result"
    }
   ],
   "source": [
    "extenso"
   ]
  },
  {
   "cell_type": "code",
   "execution_count": null,
   "metadata": {},
   "outputs": [],
   "source": []
  }
 ],
 "metadata": {
  "kernelspec": {
   "display_name": "Python 3",
   "language": "python",
   "name": "python3"
  },
  "language_info": {
   "codemirror_mode": {
    "name": "ipython",
    "version": 3
   },
   "file_extension": ".py",
   "mimetype": "text/x-python",
   "name": "python",
   "nbconvert_exporter": "python",
   "pygments_lexer": "ipython3",
   "version": "3.7.3"
  }
 },
 "nbformat": 4,
 "nbformat_minor": 2
}
