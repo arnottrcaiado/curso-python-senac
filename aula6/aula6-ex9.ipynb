{
 "cells": [
  {
   "cell_type": "code",
   "execution_count": null,
   "metadata": {},
   "outputs": [],
   "source": [
    "# aula6 - ex9 - Arnott Ramos Caiado\n",
    "# Verificação de CPF. \n",
    "# Desenvolva um programa que solicite a digitação de um número de CPF no formato xxx.xxx.xxx-xx e indique se é um número válido ou inválido através da validação dos dígitos verificadores edos caracteres de formatação.\n",
    "\n",
    "# Primeiramente multiplica-se os 9 primeiros dígitos \n",
    "# pela sequência decrescente de números de 10 à 2 e soma os resultados. Assim:\n",
    "# Vamos usar como exemplo, um CPF fictício \"529.982.247-25\".\n",
    "# 5 * 10 + 2 * 9 + 9 * 8 + 9 * 7 + 8 * 6 + 2 * 5 + 2 * 4 + 4 * 3 + 7 * 2\n",
    "# 295 * 10 / 11"
   ]
  },
  {
   "cell_type": "code",
   "execution_count": null,
   "metadata": {},
   "outputs": [],
   "source": [
    "def cpf_calc( cpf ) :\n",
    "    cpf = cpf.replace('.',\"\")\n",
    "    cpf = cpf.replace('-',\"\")\n",
    "    num=10\n",
    "    soma = 0\n",
    "    cpf1 = cpf[0:9]\n",
    "    for i in cpf1 :\n",
    "        soma += num * int(i)\n",
    "        num -=1\n",
    "    resto = (soma * 10) % 11\n",
    "    print( soma, resto)\n",
    "    if resto == 10 :\n",
    "        resto = 0\n",
    "    if resto != int(cpf[9]) :\n",
    "        return False\n",
    "    num = 11\n",
    "    soma = 0\n",
    "    cpf2 = cpf[0:10]\n",
    "    for i in cpf2 :\n",
    "        soma += num * int(i)\n",
    "        num -=1\n",
    "    resto = (soma * 10) % 11\n",
    "    print( soma, resto)\n",
    "\n",
    "    if resto == 10 :\n",
    "        resto = 0\n",
    "    if resto != int(cpf[10]) :\n",
    "        return False\n",
    "    return True"
   ]
  },
  {
   "cell_type": "code",
   "execution_count": null,
   "metadata": {},
   "outputs": [],
   "source": [
    "cpf=\"283.047.721-91\""
   ]
  },
  {
   "cell_type": "code",
   "execution_count": null,
   "metadata": {},
   "outputs": [],
   "source": [
    "if cpf_calc( cpf ) :\n",
    "    print( \"Cpf ok\")\n",
    "else :\n",
    "    ptint( \"Cpf errado\")"
   ]
  }
 ],
 "metadata": {
  "kernelspec": {
   "display_name": "Python 3",
   "language": "python",
   "name": "python3"
  },
  "language_info": {
   "codemirror_mode": {
    "name": "ipython",
    "version": 3
   },
   "file_extension": ".py",
   "mimetype": "text/x-python",
   "name": "python",
   "nbconvert_exporter": "python",
   "pygments_lexer": "ipython3",
   "version": "3.7.3"
  }
 },
 "nbformat": 4,
 "nbformat_minor": 2
}
