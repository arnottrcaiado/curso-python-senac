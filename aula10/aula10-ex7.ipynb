{
 "cells": [
  {
   "cell_type": "code",
   "execution_count": null,
   "metadata": {},
   "outputs": [],
   "source": [
    "# aula10 - ex7 - Arnott R Caiado\n",
    "# Classe Bichinho Virtual:Crie uma classe que modele um Tamagushi (Bichinho Eletrônico):\n",
    "# Atributos: Nome, Fome, Saúde e Idade b. \n",
    "# Métodos: Alterar Nome, Fome, Saúde e Idade; \n",
    "# Retornar Nome, Fome, Saúde e Idade Obs: \n",
    "# Existe mais uma informação que devemos levar em consideração, \n",
    "# o Humor do nosso tamagushi, este humor é uma combinação entre os atributos Fome e Saúde, \n",
    "# ou seja, um campo calculado, então não devemos criar um atributo para armazenar \n",
    "# esta informação por que ela pode ser calculada a qualquer momento.\n",
    "            "
   ]
  },
  {
   "cell_type": "code",
   "execution_count": null,
   "metadata": {},
   "outputs": [],
   "source": [
    "class bichin:\n",
    "    \n",
    "    def __init( self, nome, fome=0, saude=0, idade=10 ):\n",
    "        \n",
    "        self.nome = nome\n",
    "        self.fome = fome\n",
    "        self.saude = saude\n",
    "        self.idade = idade\n",
    "        \n",
    "    def alt_nome( self, nome ):\n",
    "        self.nome = nome\n",
    "        \n",
    "    def fome\n",
    "        "
   ]
  },
  {
   "cell_type": "code",
   "execution_count": null,
   "metadata": {},
   "outputs": [],
   "source": []
  }
 ],
 "metadata": {
  "kernelspec": {
   "display_name": "Python 3",
   "language": "python",
   "name": "python3"
  },
  "language_info": {
   "codemirror_mode": {
    "name": "ipython",
    "version": 3
   },
   "file_extension": ".py",
   "mimetype": "text/x-python",
   "name": "python",
   "nbconvert_exporter": "python",
   "pygments_lexer": "ipython3",
   "version": "3.7.3"
  }
 },
 "nbformat": 4,
 "nbformat_minor": 2
}
