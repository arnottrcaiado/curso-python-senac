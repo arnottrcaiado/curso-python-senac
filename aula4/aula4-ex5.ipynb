{
 "cells": [
  {
   "cell_type": "code",
   "execution_count": 10,
   "metadata": {},
   "outputs": [],
   "source": [
    "# aula4 - ex5 - Arnott Ramos Caiado\n",
    "# Faça um algoritmo que leia 20 números inteiros e armazene-os num vetor. \n",
    "# Armazene os números pares no vetor PAR e os números IMPARES no vetor impar. \n",
    "# Imprima os três vetores."
   ]
  },
  {
   "cell_type": "code",
   "execution_count": 11,
   "metadata": {},
   "outputs": [],
   "source": [
    "v_todos   = []\n",
    "v_pares   = []\n",
    "v_impares = []\n",
    "tam = 20\n",
    "i =0"
   ]
  },
  {
   "cell_type": "code",
   "execution_count": 12,
   "metadata": {},
   "outputs": [
    {
     "name": "stdout",
     "output_type": "stream",
     "text": [
      "*** Entrada de dados - 20 numeros ***\n",
      "Entre com numero:1\n",
      "Entre com numero:2\n",
      "Entre com numero:3\n",
      "Entre com numero:4\n",
      "Entre com numero:5\n",
      "Entre com numero:6\n",
      "Entre com numero:7\n",
      "Entre com numero:8\n",
      "Entre com numero:9\n",
      "Entre com numero:10\n",
      "Entre com numero:11\n",
      "Entre com numero:12\n",
      "Entre com numero:13\n",
      "Entre com numero:14\n",
      "Entre com numero:15\n",
      "Entre com numero:16\n",
      "Entre com numero:17\n",
      "Entre com numero:18\n",
      "Entre com numero:19\n",
      "Entre com numero:20\n"
     ]
    }
   ],
   "source": [
    "print(\"*** Entrada de dados - 20 numeros ***\")\n",
    "while i < tam :\n",
    "    num=int(input(\"Entre com numero:\"))\n",
    "    resto = num % 2\n",
    "    v_todos.append( num )\n",
    "    if resto == 0 : # numero par ?\n",
    "        v_pares.append( num )\n",
    "    else :\n",
    "        v_impares.append( num )\n",
    "    i +=1"
   ]
  },
  {
   "cell_type": "code",
   "execution_count": 13,
   "metadata": {},
   "outputs": [
    {
     "name": "stdout",
     "output_type": "stream",
     "text": [
      "Vetor com todos os numeros\n",
      "Numero 1: 1\n",
      "Numero 2: 2\n",
      "Numero 3: 3\n",
      "Numero 4: 4\n",
      "Numero 5: 5\n",
      "Numero 6: 6\n",
      "Numero 7: 7\n",
      "Numero 8: 8\n",
      "Numero 9: 9\n",
      "Numero 10: 10\n",
      "Numero 11: 11\n",
      "Numero 12: 12\n",
      "Numero 13: 13\n",
      "Numero 14: 14\n",
      "Numero 15: 15\n",
      "Numero 16: 16\n",
      "Numero 17: 17\n",
      "Numero 18: 18\n",
      "Numero 19: 19\n",
      "Numero 20: 20\n"
     ]
    }
   ],
   "source": [
    "j =1\n",
    "\n",
    "print(\"Vetor com todos os numeros\")\n",
    "for i in v_todos :\n",
    "    print( f\"Numero {j}:\", i)\n",
    "    j += 1"
   ]
  },
  {
   "cell_type": "code",
   "execution_count": 14,
   "metadata": {},
   "outputs": [
    {
     "name": "stdout",
     "output_type": "stream",
     "text": [
      "Vetor com numeros impares\n",
      "Numero 1: 1\n",
      "Numero 2: 3\n",
      "Numero 3: 5\n",
      "Numero 4: 7\n",
      "Numero 5: 9\n",
      "Numero 6: 11\n",
      "Numero 7: 13\n",
      "Numero 8: 15\n",
      "Numero 9: 17\n",
      "Numero 10: 19\n"
     ]
    }
   ],
   "source": [
    "j =1\n",
    "\n",
    "print(\"Vetor com numeros impares\")\n",
    "for i in v_impares :\n",
    "    print( f\"Numero {j}:\", i)\n",
    "    j += 1"
   ]
  },
  {
   "cell_type": "code",
   "execution_count": 15,
   "metadata": {},
   "outputs": [
    {
     "name": "stdout",
     "output_type": "stream",
     "text": [
      "Vetor com numeros pares\n",
      "Numero 1: 2\n",
      "Numero 2: 4\n",
      "Numero 3: 6\n",
      "Numero 4: 8\n",
      "Numero 5: 10\n",
      "Numero 6: 12\n",
      "Numero 7: 14\n",
      "Numero 8: 16\n",
      "Numero 9: 18\n",
      "Numero 10: 20\n"
     ]
    }
   ],
   "source": [
    "j =1\n",
    "\n",
    "print(\"Vetor com numeros pares\")\n",
    "for i in v_pares :\n",
    "    print( f\"Numero {j}:\", i)\n",
    "    j += 1"
   ]
  },
  {
   "cell_type": "code",
   "execution_count": null,
   "metadata": {},
   "outputs": [],
   "source": []
  }
 ],
 "metadata": {
  "kernelspec": {
   "display_name": "Python 3",
   "language": "python",
   "name": "python3"
  },
  "language_info": {
   "codemirror_mode": {
    "name": "ipython",
    "version": 3
   },
   "file_extension": ".py",
   "mimetype": "text/x-python",
   "name": "python",
   "nbconvert_exporter": "python",
   "pygments_lexer": "ipython3",
   "version": "3.7.3"
  }
 },
 "nbformat": 4,
 "nbformat_minor": 2
}
