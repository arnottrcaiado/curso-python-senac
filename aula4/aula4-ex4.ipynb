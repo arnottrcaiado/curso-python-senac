{
 "cells": [
  {
   "cell_type": "code",
   "execution_count": 10,
   "metadata": {},
   "outputs": [],
   "source": [
    "#aula4 - ex4 - Arnott Ramos Caiado\n",
    "# 4.Faça um algoritmo que leia um vetor de 10 caracteres, e diga quantas consoantes foram lidas. \n",
    "# Imprima as consoantes."
   ]
  },
  {
   "cell_type": "code",
   "execution_count": 11,
   "metadata": {},
   "outputs": [],
   "source": [
    "consoantes = \"BCDFGHJKLMNPQRSTVWXYZ\"\n",
    "tam=10\n",
    "vet = []\n",
    "i = 0"
   ]
  },
  {
   "cell_type": "code",
   "execution_count": 12,
   "metadata": {},
   "outputs": [
    {
     "name": "stdout",
     "output_type": "stream",
     "text": [
      "Entre com um Caracter:4\n",
      "Entre com um Caracter:r\n",
      "Entre com um Caracter:t\n",
      "Entre com um Caracter:g\n",
      "Entre com um Caracter:h\n",
      "Entre com um Caracter:i\n",
      "Entre com um Caracter:j\n",
      "Entre com um Caracter:k\n",
      "Entre com um Caracter:o\n",
      "Entre com um Caracter:l\n"
     ]
    }
   ],
   "source": [
    "while i < tam :\n",
    "    letra = input(\"Entre com um Caracter:\")\n",
    "    vet.append(letra.upper())\n",
    "    i +=1"
   ]
  },
  {
   "cell_type": "code",
   "execution_count": 13,
   "metadata": {},
   "outputs": [],
   "source": [
    "n_consoantes = 0"
   ]
  },
  {
   "cell_type": "code",
   "execution_count": 14,
   "metadata": {},
   "outputs": [
    {
     "name": "stdout",
     "output_type": "stream",
     "text": [
      "Consoante: R\n",
      "Consoante: T\n",
      "Consoante: G\n",
      "Consoante: H\n",
      "Consoante: J\n",
      "Consoante: K\n",
      "Consoante: L\n"
     ]
    }
   ],
   "source": [
    "for letra in vet :\n",
    "    if consoantes.find( letra ) != -1 :\n",
    "        print( \"Consoante:\",letra)\n",
    "        n_consoantes +=1"
   ]
  },
  {
   "cell_type": "code",
   "execution_count": 15,
   "metadata": {},
   "outputs": [
    {
     "name": "stdout",
     "output_type": "stream",
     "text": [
      "Foram lidas 7 consoantes\n"
     ]
    }
   ],
   "source": [
    "print( f\"Foram lidas {n_consoantes} consoantes\" )"
   ]
  },
  {
   "cell_type": "code",
   "execution_count": null,
   "metadata": {},
   "outputs": [],
   "source": []
  }
 ],
 "metadata": {
  "kernelspec": {
   "display_name": "Python 3",
   "language": "python",
   "name": "python3"
  },
  "language_info": {
   "codemirror_mode": {
    "name": "ipython",
    "version": 3
   },
   "file_extension": ".py",
   "mimetype": "text/x-python",
   "name": "python",
   "nbconvert_exporter": "python",
   "pygments_lexer": "ipython3",
   "version": "3.7.3"
  }
 },
 "nbformat": 4,
 "nbformat_minor": 2
}
