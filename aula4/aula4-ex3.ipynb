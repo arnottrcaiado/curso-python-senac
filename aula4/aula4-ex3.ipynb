{
 "cells": [
  {
   "cell_type": "code",
   "execution_count": 4,
   "metadata": {},
   "outputs": [],
   "source": [
    "# aula4 - ex3 - Arnott Ramos Caiado\n",
    "# 3.Faça um algoritmo que leia 4 notas, mostre as notas e a média na tela."
   ]
  },
  {
   "cell_type": "code",
   "execution_count": 5,
   "metadata": {},
   "outputs": [],
   "source": [
    "notas = []\n",
    "tam = 4\n",
    "i = 0\n",
    "soma = 0\n",
    "media = 0"
   ]
  },
  {
   "cell_type": "code",
   "execution_count": 8,
   "metadata": {},
   "outputs": [],
   "source": [
    "while i < tam :\n",
    "    num = float( input(\"Entre com uma nota:\"))\n",
    "    notas.append(num)\n",
    "    soma += notas[i]\n",
    "    i +=1"
   ]
  },
  {
   "cell_type": "code",
   "execution_count": 9,
   "metadata": {},
   "outputs": [],
   "source": [
    "media = soma / tam\n",
    "j =1"
   ]
  },
  {
   "cell_type": "code",
   "execution_count": 10,
   "metadata": {},
   "outputs": [
    {
     "name": "stdout",
     "output_type": "stream",
     "text": [
      "Nota 1: 4.0\n",
      "Nota 2: 5.0\n",
      "Nota 3: 6.0\n",
      "Nota 4: 2.0\n"
     ]
    }
   ],
   "source": [
    "for i in notas :\n",
    "    print( f\"Nota {j}:\", i)\n",
    "    j +=1"
   ]
  },
  {
   "cell_type": "code",
   "execution_count": 11,
   "metadata": {},
   "outputs": [
    {
     "name": "stdout",
     "output_type": "stream",
     "text": [
      "Media= 4.25\n"
     ]
    }
   ],
   "source": [
    "print( \"Media=\",media)"
   ]
  },
  {
   "cell_type": "code",
   "execution_count": null,
   "metadata": {},
   "outputs": [],
   "source": []
  }
 ],
 "metadata": {
  "kernelspec": {
   "display_name": "Python 3",
   "language": "python",
   "name": "python3"
  },
  "language_info": {
   "codemirror_mode": {
    "name": "ipython",
    "version": 3
   },
   "file_extension": ".py",
   "mimetype": "text/x-python",
   "name": "python",
   "nbconvert_exporter": "python",
   "pygments_lexer": "ipython3",
   "version": "3.7.3"
  }
 },
 "nbformat": 4,
 "nbformat_minor": 2
}
