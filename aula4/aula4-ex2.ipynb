{
 "cells": [
  {
   "cell_type": "code",
   "execution_count": null,
   "metadata": {},
   "outputs": [],
   "source": [
    "# aula4 - ex2 - Arnott Ramos Caiado\n",
    "# 2.Faça um algoritmo que leia um vetor de 10 números reais e mostre-os na ordem inversa."
   ]
  },
  {
   "cell_type": "code",
   "execution_count": 1,
   "metadata": {},
   "outputs": [],
   "source": [
    "vet = []\n",
    "tam = 10\n",
    "i = 0"
   ]
  },
  {
   "cell_type": "code",
   "execution_count": 3,
   "metadata": {},
   "outputs": [],
   "source": [
    "while i < tam :\n",
    "    num = float( input(\"Entre com um numero:\"))\n",
    "    vet.append(num)\n",
    "    i +=1"
   ]
  },
  {
   "cell_type": "code",
   "execution_count": 6,
   "metadata": {},
   "outputs": [
    {
     "name": "stdout",
     "output_type": "stream",
     "text": [
      "Numero9: 6.0\n",
      "Numero8: 5.0\n",
      "Numero7: 4.0\n",
      "Numero6: 2.0\n",
      "Numero5: 1.0\n",
      "Numero4: 9.0\n",
      "Numero3: 8.0\n",
      "Numero2: 2.0\n",
      "Numero1: 5.0\n",
      "Numero0: 1.0\n"
     ]
    }
   ],
   "source": [
    "for i in range(tam-1,-1,-1) :\n",
    "    print( f\"Numero{i}:\",vet[i] )"
   ]
  },
  {
   "cell_type": "code",
   "execution_count": null,
   "metadata": {},
   "outputs": [],
   "source": []
  }
 ],
 "metadata": {
  "kernelspec": {
   "display_name": "Python 3",
   "language": "python",
   "name": "python3"
  },
  "language_info": {
   "codemirror_mode": {
    "name": "ipython",
    "version": 3
   },
   "file_extension": ".py",
   "mimetype": "text/x-python",
   "name": "python",
   "nbconvert_exporter": "python",
   "pygments_lexer": "ipython3",
   "version": "3.7.3"
  }
 },
 "nbformat": 4,
 "nbformat_minor": 2
}
