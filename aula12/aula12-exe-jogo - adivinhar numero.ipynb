{
 "cells": [
  {
   "cell_type": "code",
   "execution_count": 6,
   "metadata": {},
   "outputs": [],
   "source": [
    "# aula12 - ex jogo - Arnott Ramos Caiado\n",
    "# jogo com sorteio de numero e 5 tentativas"
   ]
  },
  {
   "cell_type": "code",
   "execution_count": 7,
   "metadata": {},
   "outputs": [],
   "source": [
    "import random"
   ]
  },
  {
   "cell_type": "code",
   "execution_count": 8,
   "metadata": {},
   "outputs": [],
   "source": [
    "class jogo :\n",
    "    def __init__(self, limite_numero=100, max_tentativas=5, tentativas=0):\n",
    "        self.maximo = limite_numero\n",
    "        self.max_tentativas=5\n",
    "        self.tentativas=0\n",
    "        self.num_sorteado = 0\n",
    "        \n",
    "    def inicia( self ) :\n",
    "        self.num_sorteado = random.randint( 1, self.maximo ) \n",
    "        \n",
    "    def mostra( self ) :\n",
    "        return self.num_sorteado\n",
    "    \n",
    "    def testa( self, palpite ):\n",
    "        if palpite == self.num_sorteado :\n",
    "            print(\"Yeahh! Vc acertou!!\")\n",
    "            return True\n",
    "        if palpite < self.num_sorteado :\n",
    "            print(\"Ainda não acertou. O seu palpite é MENOR que o numero\")\n",
    "            return False\n",
    "        if palpite > self.num_sorteado :\n",
    "            print(\"Ainda não acertou. O seu palpite é MAIOR que o numero\")\n",
    "            return False"
   ]
  },
  {
   "cell_type": "code",
   "execution_count": 10,
   "metadata": {},
   "outputs": [
    {
     "ename": "SyntaxError",
     "evalue": "invalid syntax (<ipython-input-10-5484f8f75722>, line 15)",
     "output_type": "error",
     "traceback": [
      "\u001b[0;36m  File \u001b[0;32m\"<ipython-input-10-5484f8f75722>\"\u001b[0;36m, line \u001b[0;32m15\u001b[0m\n\u001b[0;31m    tentativas = lambda grau : if grau == 1: 10 (else: if grau == 2: 5) else: 2\u001b[0m\n\u001b[0m                                ^\u001b[0m\n\u001b[0;31mSyntaxError\u001b[0m\u001b[0;31m:\u001b[0m invalid syntax\n"
     ]
    }
   ],
   "source": [
    "continua = True\n",
    "while continua :\n",
    "    print(\"Vamos tentar a sorte?\")\n",
    "    grau =0\n",
    "    while grau <1 or grau > 5 :\n",
    "        grau = int(input(\"Qual o grau de dificuldade vc escolhe ( 1=facil, 5=dificil ):\"))\n",
    "        if grau <1 or grau > 5 :\n",
    "            print(\"O grau de dificuldade deve ser de 1 a 5\")\n",
    "    \n",
    "    print(\"Vamos lá. Vc escolheu o grau: \", grau)\n",
    "    jg = jogo( 99, grau, 0) # inicia o jogo\n",
    "    jg.inicia()\n",
    "    \n",
    "    tentativas = 6 - grau\n",
    "    \n",
    "    while tentativas > 0 :\n",
    "        print(f\"Vc tem {tentativas} tentativas\" )\n",
    "        palpite = int(input(\"Adivinhe o numero (de 1 a 99):\"))\n",
    "        if jg.testa( palpite ) == True :\n",
    "            print ( \"Parabens\")\n",
    "            break\n",
    "        tentativas -=1\n",
    "    if tentativas <= 0 :\n",
    "        print(\"Infelizmente terminaram suas chances!\")\n",
    "        print(\"O numero sorteado foi:\",jg.mostra())\n",
    "    cont=input(\"Vc quer jogar de novo?( s/n )\")\n",
    "    if cont.lower() == 'n':\n",
    "        continua = False\n",
    "print(\"*** FIM DE JOGO ***\")  "
   ]
  },
  {
   "cell_type": "code",
   "execution_count": null,
   "metadata": {},
   "outputs": [],
   "source": []
  },
  {
   "cell_type": "code",
   "execution_count": null,
   "metadata": {},
   "outputs": [],
   "source": []
  }
 ],
 "metadata": {
  "kernelspec": {
   "display_name": "Python 3",
   "language": "python",
   "name": "python3"
  },
  "language_info": {
   "codemirror_mode": {
    "name": "ipython",
    "version": 3
   },
   "file_extension": ".py",
   "mimetype": "text/x-python",
   "name": "python",
   "nbconvert_exporter": "python",
   "pygments_lexer": "ipython3",
   "version": "3.7.3"
  }
 },
 "nbformat": 4,
 "nbformat_minor": 2
}
