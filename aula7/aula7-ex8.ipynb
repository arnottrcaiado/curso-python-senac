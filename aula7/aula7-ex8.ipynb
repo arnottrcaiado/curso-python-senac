{
 "cells": [
  {
   "cell_type": "code",
   "execution_count": null,
   "metadata": {},
   "outputs": [],
   "source": [
    "# aula7 - ex8 - Arnott Ramos Caiado\n",
    "# 8.Classe Macaco: Desenvolva uma classe Macaco, \n",
    "# que possua os atributos nome e bucho (estomago) e pelo menos os métodos comer(), \n",
    "# verBucho() e digerir(). Faça um programa ou teste interativamente, \n",
    "# criando pelo menos dois macacos, alimentando-os com pelo menos 3 alimentos diferentes e \n",
    "# verificando o conteúdo do estomago a cada refeição. \n",
    "# Experimente fazer com que um macaco coma o outro. \n",
    "# É possível criar um macaco canibal?"
   ]
  },
  {
   "cell_type": "code",
   "execution_count": null,
   "metadata": {},
   "outputs": [],
   "source": [
    "class macaco :\n",
    "    def __init__ ( self, nome, bucho=[''] ) :\n",
    "        self.nome = nome\n",
    "        self.bucho = []\n",
    "        \n",
    "    def comer( self, comida) :\n",
    "        self.bucho.append( comida )\n",
    "        print(\"Comer.\", self.nome)\n",
    "        return\n",
    "    \n",
    "    def verBucho( self ) :\n",
    "        return self.bucho\n",
    "        \n",
    "    def digerir (self ) :\n",
    "        self.bucho = []\n",
    "        \n",
    "    def mostra ( self ) :\n",
    "        return self.nome"
   ]
  },
  {
   "cell_type": "code",
   "execution_count": null,
   "metadata": {},
   "outputs": [],
   "source": [
    "import random\n",
    "import time"
   ]
  },
  {
   "cell_type": "code",
   "execution_count": null,
   "metadata": {},
   "outputs": [],
   "source": [
    "comidas = ['banana','melancia','abacate','laranja','mamão','mandioca']"
   ]
  },
  {
   "cell_type": "code",
   "execution_count": null,
   "metadata": {},
   "outputs": [],
   "source": [
    "xita = macaco('xita')\n",
    "banze = macaco('banze')"
   ]
  },
  {
   "cell_type": "code",
   "execution_count": null,
   "metadata": {},
   "outputs": [],
   "source": [
    "while True :\n",
    "    print( f\"Como estão os macacos\")\n",
    "    print( f\"1 {xita.mostra()}, tem no bucho: {xita.verBucho()}\")\n",
    "    print( f\"2 {banze.mostra()}, tem no bucho: {banze.verBucho()}\")\n",
    "    time.sleep(1)\n",
    "    \n",
    "    sorteia = random.randint(1,5)\n",
    "    if sorteia == 1: # hora de comer para xita \n",
    "        xita.comer( comidas[ random.randint(0,len(comidas)-1)])\n",
    "    elif sorteia == 2 : # hora de comer para banze\n",
    "        banze.comer( comidas[ random.randint(0,len(comidas)-1)])\n",
    "    elif sorteia == 3 : # hora de digestão para xita\n",
    "        xita.digerir ()\n",
    "    elif sorteia == 4 : # hora de digestão para banze\n",
    "        banze.digerir ()\n",
    "        "
   ]
  },
  {
   "cell_type": "code",
   "execution_count": null,
   "metadata": {},
   "outputs": [],
   "source": []
  }
 ],
 "metadata": {
  "kernelspec": {
   "display_name": "Python 3",
   "language": "python",
   "name": "python3"
  },
  "language_info": {
   "codemirror_mode": {
    "name": "ipython",
    "version": 3
   },
   "file_extension": ".py",
   "mimetype": "text/x-python",
   "name": "python",
   "nbconvert_exporter": "python",
   "pygments_lexer": "ipython3",
   "version": "3.7.3"
  }
 },
 "nbformat": 4,
 "nbformat_minor": 2
}
