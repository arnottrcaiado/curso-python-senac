{
 "cells": [
  {
   "cell_type": "code",
   "execution_count": 3,
   "metadata": {},
   "outputs": [],
   "source": [
    "# aula7 - ex10 - Arnott Ramos Caiado\n",
    "# Classe Bomba de Combustível: Faça um programa completo utilizando classes e métodos que:\n",
    "# A.Possua uma classe chamada bombaCombustível, com no mínimo esses atributos:\n",
    "# I.vatipoCombustivel.\n",
    "# II.lorLitro\n",
    "# III.quantidadeCombustivel\n",
    "\n",
    "# B.Possua no mínimo esses métodos:\n",
    "# I.abastecerPorValor( ) –método onde é informado o valor a ser abastecido e \n",
    "# mostra a quantidade de litros que foi colocada no veículo\n",
    "# II.abastecerPorLitro\n",
    "# ( ) –método onde é informado a quantidade em litros de combustível e mostra \n",
    "# o valor a ser pago pelo cliente.\n",
    "# III.alterarValor\n",
    "# ( ) –altera o valor do litro do combustível.\n",
    "# IV.alterarCombustivel\n",
    "# ( ) –altera o tipo do combustível.V.alterarQuantidadeCombustivel\n",
    "# ( ) –altera a quantidade de combustível restante na bomba.OBS: \n",
    "# Sempre que acontecer um abastecimento \n",
    "# é necessário atualizar a quantidade de combustível total na bomba."
   ]
  },
  {
   "cell_type": "code",
   "execution_count": 4,
   "metadata": {},
   "outputs": [],
   "source": [
    "class bombaCombustivel :\n",
    "    def __init__ ( self, tipo='gasolina',valorlitro=4.50,litros=1000 ) :\n",
    "        self.tipo = tipo\n",
    "        self.valorlitro = valorlitro\n",
    "        self.litros = litros\n",
    "        \n",
    "    def abastecePorValor(self, valor) :\n",
    "        litros = valor / self.valorlitro\n",
    "        if self.litros >= litros :\n",
    "            self.litros -= litros\n",
    "            return self.litros\n",
    "        else :\n",
    "            print(f\"Não é possível abastecer este valor. Possivel até {self.litros * self.valorlitro}\")\n",
    "            return -1\n",
    "    def abastecePorLitro(self, litros) :\n",
    "        if self.litros >= litros :\n",
    "            self.litros -= litros\n",
    "            return self.litros\n",
    "        else :\n",
    "            print(f\"Não é possível abastecer esta quantidade de litros. Possivel até {self.litros}\")\n",
    "            return -1\n",
    "        \n",
    "    def alteraValor( self, valor) :\n",
    "        self.valorlitro = valor\n",
    "    \n",
    "    def alteraCombustivel ( self, combustivel):\n",
    "        self.tipo = combustivel\n",
    "    \n",
    "    def mostra ( self ) :\n",
    "        return self.tipo, self.valorlitro, self.litros\n",
    "        \n"
   ]
  },
  {
   "cell_type": "code",
   "execution_count": 6,
   "metadata": {},
   "outputs": [],
   "source": [
    "bomba = bombaCombustivel (\"gasolina\")"
   ]
  },
  {
   "cell_type": "code",
   "execution_count": 8,
   "metadata": {},
   "outputs": [],
   "source": [
    "bomba.alteraValor( 5 )"
   ]
  },
  {
   "cell_type": "code",
   "execution_count": 9,
   "metadata": {},
   "outputs": [
    {
     "data": {
      "text/plain": [
       "980.0"
      ]
     },
     "execution_count": 9,
     "metadata": {},
     "output_type": "execute_result"
    }
   ],
   "source": [
    "bomba.abastecePorValor(100)"
   ]
  },
  {
   "cell_type": "code",
   "execution_count": 10,
   "metadata": {},
   "outputs": [
    {
     "data": {
      "text/plain": [
       "('gasolina', 5, 980.0)"
      ]
     },
     "execution_count": 10,
     "metadata": {},
     "output_type": "execute_result"
    }
   ],
   "source": [
    "bomba.mostra()"
   ]
  },
  {
   "cell_type": "code",
   "execution_count": 11,
   "metadata": {},
   "outputs": [
    {
     "data": {
      "text/plain": [
       "780.0"
      ]
     },
     "execution_count": 11,
     "metadata": {},
     "output_type": "execute_result"
    }
   ],
   "source": [
    "bomba.abastecePorValor( 1000 )"
   ]
  },
  {
   "cell_type": "code",
   "execution_count": 13,
   "metadata": {},
   "outputs": [
    {
     "data": {
      "text/plain": [
       "700.0"
      ]
     },
     "execution_count": 13,
     "metadata": {},
     "output_type": "execute_result"
    }
   ],
   "source": [
    "bomba.abastecePorLitro( 80 )"
   ]
  },
  {
   "cell_type": "code",
   "execution_count": null,
   "metadata": {},
   "outputs": [],
   "source": []
  }
 ],
 "metadata": {
  "kernelspec": {
   "display_name": "Python 3",
   "language": "python",
   "name": "python3"
  },
  "language_info": {
   "codemirror_mode": {
    "name": "ipython",
    "version": 3
   },
   "file_extension": ".py",
   "mimetype": "text/x-python",
   "name": "python",
   "nbconvert_exporter": "python",
   "pygments_lexer": "ipython3",
   "version": "3.7.3"
  }
 },
 "nbformat": 4,
 "nbformat_minor": 2
}
