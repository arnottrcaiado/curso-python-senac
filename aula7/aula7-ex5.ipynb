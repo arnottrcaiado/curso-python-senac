{
 "cells": [
  {
   "cell_type": "code",
   "execution_count": null,
   "metadata": {},
   "outputs": [],
   "source": [
    "# aula7 - ex5 - Arnott Ramos Caiado\n",
    "# Classe Conta Corrente: Crie uma classe para implementar uma conta corrente. \n",
    "# A classe deve possuir os seguintes atributos: número da conta, nome do correntista e saldo.\n",
    "# Os métodos são os seguintes: alterarNome, depósito e saque; \n",
    "# No construtor, saldo é opcional, \n",
    "# com valor default zero e os demais atributos são obrigatórios."
   ]
  },
  {
   "cell_type": "code",
   "execution_count": 11,
   "metadata": {},
   "outputs": [],
   "source": [
    "class conta :\n",
    "    def __init__(self,nome,numero, saldo=0) :\n",
    "        self.saldo = saldo\n",
    "        self.nome = nome\n",
    "        self.numero = numero\n",
    "        \n",
    "    def deposito( self, valor):\n",
    "        self.saldo += valor\n",
    "        pass\n",
    "    \n",
    "    def saque ( self, valor ):\n",
    "        self.saldo -= valor\n",
    "        pass\n",
    "    \n",
    "    def alterarNome( self, novonome ):\n",
    "        self.nome = novonome\n",
    "        pass\n",
    "    \n",
    "    def mostra( self ):\n",
    "        return self.numero, self.nome, self.saldo"
   ]
  },
  {
   "cell_type": "code",
   "execution_count": 12,
   "metadata": {},
   "outputs": [],
   "source": [
    "cc = conta( \"Arnott\",\"1234\")"
   ]
  },
  {
   "cell_type": "code",
   "execution_count": 13,
   "metadata": {},
   "outputs": [],
   "source": [
    "cc.deposito( 1000 )"
   ]
  },
  {
   "cell_type": "code",
   "execution_count": 16,
   "metadata": {},
   "outputs": [
    {
     "name": "stdout",
     "output_type": "stream",
     "text": [
      "('1234', 'Arnott Ramos Caiado', 1000)\n"
     ]
    }
   ],
   "source": [
    "print( cc.mostra() )"
   ]
  },
  {
   "cell_type": "code",
   "execution_count": 15,
   "metadata": {},
   "outputs": [],
   "source": [
    "cc.alterarNome( \"Arnott Ramos Caiado\")"
   ]
  },
  {
   "cell_type": "code",
   "execution_count": null,
   "metadata": {},
   "outputs": [],
   "source": []
  }
 ],
 "metadata": {
  "kernelspec": {
   "display_name": "Python 3",
   "language": "python",
   "name": "python3"
  },
  "language_info": {
   "codemirror_mode": {
    "name": "ipython",
    "version": 3
   },
   "file_extension": ".py",
   "mimetype": "text/x-python",
   "name": "python",
   "nbconvert_exporter": "python",
   "pygments_lexer": "ipython3",
   "version": "3.7.3"
  }
 },
 "nbformat": 4,
 "nbformat_minor": 2
}
