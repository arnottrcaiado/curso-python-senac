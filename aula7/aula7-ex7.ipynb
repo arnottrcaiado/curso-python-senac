{
 "cells": [
  {
   "cell_type": "code",
   "execution_count": 110,
   "metadata": {},
   "outputs": [],
   "source": [
    "# aula10 - ex7 - Arnott R Caiado\n",
    "# Classe Bichinho Virtual:Crie uma classe que modele um Tamagushi (Bichinho Eletrônico):\n",
    "# Atributos: Nome, Fome, Saúde e Idade b. \n",
    "# Métodos: Alterar Nome, Fome, Saúde e Idade; \n",
    "# Retornar Nome, Fome, Saúde e Idade Obs: \n",
    "# Existe mais uma informação que devemos levar em consideração, \n",
    "# o Humor do nosso tamagushi, este humor é uma combinação entre os atributos Fome e Saúde, \n",
    "# ou seja, um campo calculado, então não devemos criar um atributo para armazenar \n",
    "# esta informação por que ela pode ser calculada a qualquer momento.\n",
    "            "
   ]
  },
  {
   "cell_type": "code",
   "execution_count": 111,
   "metadata": {},
   "outputs": [],
   "source": [
    "import time\n",
    "import random"
   ]
  },
  {
   "cell_type": "code",
   "execution_count": 127,
   "metadata": {},
   "outputs": [],
   "source": [
    "INT_SAUDE = 20\n",
    "INT_FOME = 5\n",
    "ANO = 50\n",
    "LIMITE_FOME = -50\n",
    "LIMITE_SAUDE = -200\n",
    "comidasBoas=['arroz','feijao','picanha']\n",
    "comidasRegulares=['macaxeira','macarrao','batata']\n",
    "comidasRuins=['quiabo','buxada', 'sarapatel']\n",
    "comidas = comidasBoas + comidasRegulares + comidasRuins\n",
    "SATISFAZ_MUITO = 20\n",
    "SATISFAZ = 10\n",
    "SAUDE_COMIDABOA = 10\n",
    "SAUDE_COMIDA = 5"
   ]
  },
  {
   "cell_type": "code",
   "execution_count": 128,
   "metadata": {},
   "outputs": [],
   "source": [
    "class bichin:\n",
    "    \n",
    "    def __init__( self, nome, fome=0, saude=0, idade=0, tempo=0 ):\n",
    "        self.nome = nome\n",
    "        self.fome = fome\n",
    "        self.saude = saude\n",
    "        self.idade = idade\n",
    "        self.tempo = 0\n",
    "        \n",
    "    def alt_nome( self, nome ):\n",
    "        self.nome = nome\n",
    "        \n",
    "    def envelhece( self ) :\n",
    "        self.idade += 1\n",
    "        self.tempo =0\n",
    "    \n",
    "    def passatempo( self ):\n",
    "        self.tempo += 1\n",
    "        if self.tempo % INT_SAUDE == 0:    \n",
    "            self.saude -= 8\n",
    "        if self.tempo % INT_FOME == 0 :\n",
    "            self.fome -= 5\n",
    "        if self.tempo == ANO :\n",
    "            self.idade +=1\n",
    "            self.tempo =0\n",
    "        \n",
    "    def humor ( self ):\n",
    "        pass\n",
    "        \n",
    "    def comida (self, comida):\n",
    "        if comida in comidasBoas :\n",
    "            self.fome += SATISFAZ_MUITO\n",
    "            self.saude += SAUDE_COMIDABOA\n",
    "            print(\"Oba. Comida boa!\")\n",
    "        elif comida in comidasRegulares :\n",
    "            self.fome += SATISFAZ\n",
    "            self.saude += SAUDE_COMIDA\n",
    "            print(\"Não tem outra comida?\")\n",
    "        elif comida in comidasRuins :\n",
    "            print(\"Quero comida boa!\")\n",
    "        else :\n",
    "            print(\"Não sei o que é isto!\")\n",
    "            \n",
    "    def mostra( self ):\n",
    "        return self.nome, self.idade, self.saude, self.fome"
   ]
  },
  {
   "cell_type": "code",
   "execution_count": 129,
   "metadata": {},
   "outputs": [],
   "source": [
    "bicho = bichin('tati')"
   ]
  },
  {
   "cell_type": "code",
   "execution_count": 130,
   "metadata": {},
   "outputs": [
    {
     "data": {
      "text/plain": [
       "<__main__.bichin at 0x10e360358>"
      ]
     },
     "execution_count": 130,
     "metadata": {},
     "output_type": "execute_result"
    }
   ],
   "source": [
    "bicho"
   ]
  },
  {
   "cell_type": "code",
   "execution_count": 133,
   "metadata": {},
   "outputs": [
    {
     "ename": "TypeError",
     "evalue": "'module' object is not callable",
     "output_type": "error",
     "traceback": [
      "\u001b[0;31m---------------------------------------------------------------------------\u001b[0m",
      "\u001b[0;31mTypeError\u001b[0m                                 Traceback (most recent call last)",
      "\u001b[0;32m<ipython-input-133-158392d4b0a7>\u001b[0m in \u001b[0;36m<module>\u001b[0;34m\u001b[0m\n\u001b[1;32m      4\u001b[0m     \u001b[0mtime\u001b[0m\u001b[0;34m.\u001b[0m\u001b[0msleep\u001b[0m\u001b[0;34m(\u001b[0m\u001b[0;36m0.1\u001b[0m\u001b[0;34m)\u001b[0m\u001b[0;34m\u001b[0m\u001b[0;34m\u001b[0m\u001b[0m\n\u001b[1;32m      5\u001b[0m     \u001b[0;32mif\u001b[0m \u001b[0mconta\u001b[0m \u001b[0;34m%\u001b[0m \u001b[0;36m21\u001b[0m \u001b[0;34m==\u001b[0m \u001b[0;36m0\u001b[0m\u001b[0;34m:\u001b[0m\u001b[0;34m\u001b[0m\u001b[0;34m\u001b[0m\u001b[0m\n\u001b[0;32m----> 6\u001b[0;31m         \u001b[0mbicho\u001b[0m\u001b[0;34m.\u001b[0m\u001b[0mcomida\u001b[0m\u001b[0;34m(\u001b[0m\u001b[0mcomidas\u001b[0m\u001b[0;34m[\u001b[0m\u001b[0;36m1\u001b[0m\u001b[0;34m-\u001b[0m\u001b[0mrandom\u001b[0m\u001b[0;34m(\u001b[0m\u001b[0;36m1\u001b[0m\u001b[0;34m,\u001b[0m\u001b[0mlen\u001b[0m\u001b[0;34m(\u001b[0m\u001b[0mcomidas\u001b[0m\u001b[0;34m)\u001b[0m\u001b[0;34m)\u001b[0m\u001b[0;34m]\u001b[0m\u001b[0;34m)\u001b[0m\u001b[0;34m\u001b[0m\u001b[0;34m\u001b[0m\u001b[0m\n\u001b[0m\u001b[1;32m      7\u001b[0m     \u001b[0mprint\u001b[0m\u001b[0;34m(\u001b[0m \u001b[0mbicho\u001b[0m\u001b[0;34m.\u001b[0m\u001b[0mmostra\u001b[0m\u001b[0;34m(\u001b[0m\u001b[0;34m)\u001b[0m \u001b[0;34m)\u001b[0m\u001b[0;34m\u001b[0m\u001b[0;34m\u001b[0m\u001b[0m\n\u001b[1;32m      8\u001b[0m     \u001b[0mconta\u001b[0m \u001b[0;34m+=\u001b[0m\u001b[0;36m1\u001b[0m\u001b[0;34m\u001b[0m\u001b[0;34m\u001b[0m\u001b[0m\n",
      "\u001b[0;31mTypeError\u001b[0m: 'module' object is not callable"
     ]
    }
   ],
   "source": [
    "conta = 0\n",
    "while True :\n",
    "    bicho.passatempo()\n",
    "    time.sleep(0.1)\n",
    "    if conta % 21 == 0:\n",
    "        bicho.comida( comidas[random.randint(0,len(comidas)-1)] )\n",
    "    print( bicho.mostra() )\n",
    "    conta +=1"
   ]
  },
  {
   "cell_type": "code",
   "execution_count": 135,
   "metadata": {},
   "outputs": [
    {
     "data": {
      "text/plain": [
       "'feijao'"
      ]
     },
     "execution_count": 135,
     "metadata": {},
     "output_type": "execute_result"
    }
   ],
   "source": [
    "comidas[1-random.randint(1,len(comidas))]"
   ]
  },
  {
   "cell_type": "code",
   "execution_count": 126,
   "metadata": {},
   "outputs": [
    {
     "data": {
      "text/plain": [
       "{'arroz', 'feijao', 'picanha'}"
      ]
     },
     "execution_count": 126,
     "metadata": {},
     "output_type": "execute_result"
    }
   ],
   "source": [
    "comidas[0]"
   ]
  },
  {
   "cell_type": "code",
   "execution_count": null,
   "metadata": {},
   "outputs": [],
   "source": []
  }
 ],
 "metadata": {
  "kernelspec": {
   "display_name": "Python 3",
   "language": "python",
   "name": "python3"
  },
  "language_info": {
   "codemirror_mode": {
    "name": "ipython",
    "version": 3
   },
   "file_extension": ".py",
   "mimetype": "text/x-python",
   "name": "python",
   "nbconvert_exporter": "python",
   "pygments_lexer": "ipython3",
   "version": "3.7.3"
  }
 },
 "nbformat": 4,
 "nbformat_minor": 2
}
