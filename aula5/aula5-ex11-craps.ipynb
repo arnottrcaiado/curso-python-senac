{
 "cells": [
  {
   "cell_type": "code",
   "execution_count": null,
   "metadata": {},
   "outputs": [],
   "source": [
    "# aula5 - ex11 - Arnott Ramos Caiado\n",
    "# jogo de craps\n",
    "# Jogo de Craps. Faça um programa de implemente um jogo de Craps. \n",
    "# O jogador lança um par de dados, obtendo um valor entre 2 e 12. \n",
    "#Se, na primeira jogada, você tirar 7 ou 11, você um \"natural\" e ganhou. \n",
    "#Se você tirar 2, 3 ou 12 na primeira jogada, isto é chamado de \"craps\" e você perdeu. #\n",
    "# Se, na primeira jogada, você fez um 4, 5, 6, 8, 9 ou 10,este é seu \"Ponto\". #\n",
    "# Seu objetivo agora é continuar jogando os dados até tirar este número novamente. \n",
    "#Você perde, no entanto, se tirar um 7 antes de tirar este Ponto novamente.\n"
   ]
  },
  {
   "cell_type": "code",
   "execution_count": null,
   "metadata": {},
   "outputs": [],
   "source": [
    "import random"
   ]
  },
  {
   "cell_type": "code",
   "execution_count": null,
   "metadata": {},
   "outputs": [],
   "source": [
    "def jogada( ordem, ponto ):\n",
    "    if ordem == PRIMEIRA :\n",
    "        numero = random.randint(2,12)\n",
    "        print(\"Seu numero:\", numero)\n",
    "        for i in v_ganhou :\n",
    "            if numero == i :\n",
    "                return GANHOU,0 # ganhou\n",
    "        for i in v_perdeu :\n",
    "            if numero == i :\n",
    "                return PERDEU,0 # perdeu\n",
    "        for i in v_ponto :\n",
    "            if numero == i :\n",
    "                print(\"Ponto:\", numero)\n",
    "                return PONTO, numero # ponto\n",
    "    else :\n",
    "        numero = random.randint(2,12)\n",
    "        print(\"Seu numero:\", numero)\n",
    "        if numero == v_ponto_perde :\n",
    "            return PERDEU, 0\n",
    "        if numero == ponto :\n",
    "            return GANHOU, numero\n",
    "        return PONTO, numero"
   ]
  },
  {
   "cell_type": "code",
   "execution_count": null,
   "metadata": {
    "scrolled": false
   },
   "outputs": [],
   "source": [
    "ponto = 0\n",
    "v_ganhou = [7,11]\n",
    "v_perdeu = [2,3,12]\n",
    "v_ponto = [4,5,6,8,9,10]\n",
    "v_ponto_perde = 7\n",
    "PRIMEIRA = 1\n",
    "SEGUNDA = 2\n",
    "\n",
    "GANHOU = 3\n",
    "PERDEU = 4\n",
    "PONTO = 5"
   ]
  },
  {
   "cell_type": "code",
   "execution_count": null,
   "metadata": {},
   "outputs": [],
   "source": [
    "while True :\n",
    "    print(   \"****************************************************\")\n",
    "    if input(\"Craps. Aperte uma tecla para jogar (F para terminar)\") == 'F' :\n",
    "           break\n",
    "    status , ponto = jogada ( PRIMEIRA, 0 )\n",
    "    if status == GANHOU :\n",
    "           print(\"NATURAL . Voce GANHOU!!!\")\n",
    "    if status == PERDEU :\n",
    "           print(\"CRAPS. Infelizmente não foi desta vez. Você PERDEU!!!\")\n",
    "    while status == PONTO :\n",
    "        if input(\"PONTO. Aperte uma tecla para jogar (F para terminar)\") == 'F' :\n",
    "            break\n",
    "        status, novo = jogada( SEGUNDA, ponto)\n",
    "        if status == GANHOU :\n",
    "            print(\"Voce GANHOU!!! Ponto:\", novo)\n",
    "        if status == PERDEU :\n",
    "            print(\"Você esteve perto. Mas Perdeu! \", novo)\n"
   ]
  },
  {
   "cell_type": "code",
   "execution_count": null,
   "metadata": {},
   "outputs": [],
   "source": []
  }
 ],
 "metadata": {
  "kernelspec": {
   "display_name": "Python 3",
   "language": "python",
   "name": "python3"
  },
  "language_info": {
   "codemirror_mode": {
    "name": "ipython",
    "version": 3
   },
   "file_extension": ".py",
   "mimetype": "text/x-python",
   "name": "python",
   "nbconvert_exporter": "python",
   "pygments_lexer": "ipython3",
   "version": "3.7.3"
  }
 },
 "nbformat": 4,
 "nbformat_minor": 2
}
