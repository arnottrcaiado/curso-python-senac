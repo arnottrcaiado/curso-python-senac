{
 "cells": [
  {
   "cell_type": "code",
   "execution_count": 69,
   "metadata": {},
   "outputs": [],
   "source": [
    "# aula8 - ex 3- em sala - Arnott Ramos Caiado\n",
    "# criar uma classe Retangulo\n",
    "# Classe Retangulo: Crie uma classe que modele um retangulo:\n",
    "\n",
    "# Atributos: LadoA, LadoB (ou Comprimento e Largura, ou Base e Altura, a escolher)\n",
    "#Métodos: Mudar valor dos lados, Retornar valor dos lados, calcular Área e calcular Perímetro;\n",
    "#Crie um programa que utilize esta classe. \n",
    "# Ele deve pedir ao usuário que informe as medidades de um local. \n",
    "# Depois, deve criar um objeto com as medidas e calcular a quantidade de pisos e \n",
    "# de rodapés necessárias para o local."
   ]
  },
  {
   "cell_type": "code",
   "execution_count": 74,
   "metadata": {},
   "outputs": [],
   "source": [
    "class retangulo :        \n",
    "    def __init__ (self, lado1, lado2 ):\n",
    "        self.lado1 = lado1\n",
    "        self.lado2 = lado2\n",
    "    \n",
    "    def lados( self, lado1, lado2):\n",
    "        self.lado1 = lado1\n",
    "        self.lado2 = lado2 \n",
    "        return \n",
    "        \n",
    "    def area( self):\n",
    "        return self.lado1 * self.lado2\n",
    "    \n",
    "    def perimetro ( self ):\n",
    "        return self.lado1 * 2.0 + self.lado2 *2.0\n",
    "    \n",
    "    def mostra( self ):\n",
    "        return self.lado1, self.lado2\n",
    "    \n",
    "    "
   ]
  },
  {
   "cell_type": "code",
   "execution_count": 79,
   "metadata": {},
   "outputs": [],
   "source": [
    "ret = retangulo(2,3)"
   ]
  },
  {
   "cell_type": "code",
   "execution_count": 80,
   "metadata": {},
   "outputs": [
    {
     "data": {
      "text/plain": [
       "(2, 3)"
      ]
     },
     "execution_count": 80,
     "metadata": {},
     "output_type": "execute_result"
    }
   ],
   "source": [
    "ret.mostra()"
   ]
  },
  {
   "cell_type": "code",
   "execution_count": 81,
   "metadata": {},
   "outputs": [],
   "source": [
    "ret.lados(2,3)"
   ]
  },
  {
   "cell_type": "code",
   "execution_count": 82,
   "metadata": {},
   "outputs": [
    {
     "data": {
      "text/plain": [
       "6"
      ]
     },
     "execution_count": 82,
     "metadata": {},
     "output_type": "execute_result"
    }
   ],
   "source": [
    "ret.area()"
   ]
  },
  {
   "cell_type": "code",
   "execution_count": 84,
   "metadata": {},
   "outputs": [
    {
     "data": {
      "text/plain": [
       "10.0"
      ]
     },
     "execution_count": 84,
     "metadata": {},
     "output_type": "execute_result"
    }
   ],
   "source": [
    "ret.perimetro()"
   ]
  },
  {
   "cell_type": "raw",
   "metadata": {},
   "source": []
  }
 ],
 "metadata": {
  "kernelspec": {
   "display_name": "Python 3",
   "language": "python",
   "name": "python3"
  },
  "language_info": {
   "codemirror_mode": {
    "name": "ipython",
    "version": 3
   },
   "file_extension": ".py",
   "mimetype": "text/x-python",
   "name": "python",
   "nbconvert_exporter": "python",
   "pygments_lexer": "ipython3",
   "version": "3.7.3"
  }
 },
 "nbformat": 4,
 "nbformat_minor": 2
}
