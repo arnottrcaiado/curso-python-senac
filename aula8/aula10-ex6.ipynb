{
 "cells": [
  {
   "cell_type": "code",
   "execution_count": 30,
   "metadata": {},
   "outputs": [],
   "source": [
    "# aula10 - ex6 - Arnott Ramos Caiado\n",
    "# Classe TV: Faça um programa que simule um televisor criando-o como um objeto. \n",
    "# O usuário deve ser capaz de informar o número do canal e aumentar ou diminuir o volume. \n",
    "# Certifique-se de que o número do canal e o nível do volume \n",
    "# permanecem dentro de faixas válidas."
   ]
  },
  {
   "cell_type": "code",
   "execution_count": 47,
   "metadata": {},
   "outputs": [],
   "source": [
    "class tv :\n",
    "    def __init__ ( self, canal=11, volume=11) :\n",
    "        self.__canal = canal\n",
    "        self.__volume = volume\n",
    "        \n",
    "    def maisvol( self ) :\n",
    "        self.__volume +=1 \n",
    "        if self.__volume > 99 :\n",
    "            self.__volume = 99\n",
    "    \n",
    "    def menosvol( self ) :\n",
    "        self.__volume -=1 \n",
    "        if self.__volume < 0 :\n",
    "            self.__volume = 0\n",
    "            \n",
    "    def mudacanal( self, canal ):\n",
    "        if canal >0 and canal < 500 :\n",
    "            self.__canal = canal\n",
    "            \n",
    "    def mostra( self ) :\n",
    "        return self.__canal, self.__volume\n",
    "    \n",
    "    def __str__ (self ):\n",
    "        return f'TV Canal:{self.__canal} Volume:{self.__volume}'"
   ]
  },
  {
   "cell_type": "code",
   "execution_count": 48,
   "metadata": {},
   "outputs": [],
   "source": [
    "minhatv = tv()"
   ]
  },
  {
   "cell_type": "code",
   "execution_count": 52,
   "metadata": {},
   "outputs": [],
   "source": [
    "minhatv.maisvol()"
   ]
  },
  {
   "cell_type": "code",
   "execution_count": 50,
   "metadata": {},
   "outputs": [],
   "source": [
    "minhatv.mudacanal( 30 )"
   ]
  },
  {
   "cell_type": "code",
   "execution_count": 51,
   "metadata": {},
   "outputs": [
    {
     "data": {
      "text/plain": [
       "(30, 12)"
      ]
     },
     "execution_count": 51,
     "metadata": {},
     "output_type": "execute_result"
    }
   ],
   "source": [
    "minhatv.mostra()"
   ]
  },
  {
   "cell_type": "code",
   "execution_count": 53,
   "metadata": {},
   "outputs": [
    {
     "name": "stdout",
     "output_type": "stream",
     "text": [
      "TV Canal:30 Volume:13\n"
     ]
    }
   ],
   "source": [
    "print(minhatv)"
   ]
  },
  {
   "cell_type": "code",
   "execution_count": null,
   "metadata": {},
   "outputs": [],
   "source": []
  },
  {
   "cell_type": "code",
   "execution_count": null,
   "metadata": {},
   "outputs": [],
   "source": []
  }
 ],
 "metadata": {
  "kernelspec": {
   "display_name": "Python 3",
   "language": "python",
   "name": "python3"
  },
  "language_info": {
   "codemirror_mode": {
    "name": "ipython",
    "version": 3
   },
   "file_extension": ".py",
   "mimetype": "text/x-python",
   "name": "python",
   "nbconvert_exporter": "python",
   "pygments_lexer": "ipython3",
   "version": "3.7.3"
  }
 },
 "nbformat": 4,
 "nbformat_minor": 2
}
