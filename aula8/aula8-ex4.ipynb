{
 "cells": [
  {
   "cell_type": "code",
   "execution_count": null,
   "metadata": {},
   "outputs": [],
   "source": [
    "# aula8- ex4 - Arnott Ramos Caiado\n",
    "# Classe Pessoa: Crie uma classe que modele uma pessoa:\n",
    "# Atributos: nome, idade, peso e altura\n",
    "# Métodos: Envelhercer, engordar, emagrecer, crescer. \n",
    "# Obs: Por padrão, a cada ano que nossa pessoa envelhece, \n",
    "# sendo a idade dela menor que 21 anos, ela deve crescer 0,5 cm."
   ]
  },
  {
   "cell_type": "code",
   "execution_count": 65,
   "metadata": {},
   "outputs": [],
   "source": [
    "class pessoa :\n",
    "    def __init__ (self, nome, idade, peso, altura) :\n",
    "        self.__nome = nome\n",
    "        self.__idade =idade\n",
    "        self.__peso = peso\n",
    "        self.__altura = altura\n",
    "        \n",
    "    def envelhecer ( self ) :\n",
    "        self.__idade += 1\n",
    "        if self.__idade < 21 :\n",
    "            self.__altura += 0.05\n",
    "        \n",
    "    def engordar ( self, engorda ) :\n",
    "        self.__peso += engorda\n",
    "        \n",
    "    def emagrece ( self, emagrece ) :\n",
    "        self.__peso -= emagrece\n",
    "        \n",
    "    def crescer ( self, cresc ) :\n",
    "        self.__altura += cresc\n",
    "        \n",
    "    def mostra ( self ) :\n",
    "        return self.__nome, self.__idade, self.__peso, self.__altura "
   ]
  },
  {
   "cell_type": "code",
   "execution_count": 66,
   "metadata": {},
   "outputs": [],
   "source": [
    "joao = pessoa(\"Joao\", 17,80,1.8)"
   ]
  },
  {
   "cell_type": "code",
   "execution_count": 72,
   "metadata": {},
   "outputs": [],
   "source": [
    "joao.envelhecer()"
   ]
  },
  {
   "cell_type": "code",
   "execution_count": 68,
   "metadata": {},
   "outputs": [],
   "source": [
    "joao.crescer(0.03)"
   ]
  },
  {
   "cell_type": "code",
   "execution_count": 73,
   "metadata": {},
   "outputs": [
    {
     "data": {
      "text/plain": [
       "('Joao', 20, 80, 1.9800000000000002)"
      ]
     },
     "execution_count": 73,
     "metadata": {},
     "output_type": "execute_result"
    }
   ],
   "source": [
    "joao.mostra()"
   ]
  },
  {
   "cell_type": "code",
   "execution_count": null,
   "metadata": {},
   "outputs": [],
   "source": []
  },
  {
   "cell_type": "code",
   "execution_count": null,
   "metadata": {},
   "outputs": [],
   "source": []
  }
 ],
 "metadata": {
  "kernelspec": {
   "display_name": "Python 3",
   "language": "python",
   "name": "python3"
  },
  "language_info": {
   "codemirror_mode": {
    "name": "ipython",
    "version": 3
   },
   "file_extension": ".py",
   "mimetype": "text/x-python",
   "name": "python",
   "nbconvert_exporter": "python",
   "pygments_lexer": "ipython3",
   "version": "3.7.3"
  }
 },
 "nbformat": 4,
 "nbformat_minor": 2
}
